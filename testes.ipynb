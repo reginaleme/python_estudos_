{
  "nbformat": 4,
  "nbformat_minor": 0,
  "metadata": {
    "colab": {
      "name": "testes.ipynb",
      "provenance": [],
      "collapsed_sections": [],
      "authorship_tag": "ABX9TyOWWifcsPTwDrrpaMPU+kRW",
      "include_colab_link": true
    },
    "kernelspec": {
      "name": "python3",
      "display_name": "Python 3"
    },
    "language_info": {
      "name": "python"
    }
  },
  "cells": [
    {
      "cell_type": "markdown",
      "metadata": {
        "id": "view-in-github",
        "colab_type": "text"
      },
      "source": [
        "<a href=\"https://colab.research.google.com/github/reginaleme/python_estudos_/blob/develop/testes.ipynb\" target=\"_parent\"><img src=\"https://colab.research.google.com/assets/colab-badge.svg\" alt=\"Open In Colab\"/></a>"
      ]
    },
    {
      "cell_type": "code",
      "execution_count": null,
      "metadata": {
        "colab": {
          "base_uri": "https://localhost:8080/"
        },
        "id": "N_C3AXXyuXCI",
        "outputId": "440d4186-9133-4096-d6a6-f4112ba86269"
      },
      "outputs": [
        {
          "output_type": "stream",
          "name": "stdout",
          "text": [
            "\n",
            "Exe 1\n",
            "Alô mundo!\n",
            "Regina você é sensacional!\n",
            "\n",
            "Exe 2\n",
            "Boa tarde, Regina!\n",
            "\n",
            "Exe 3\n",
            "4.70, 4.7000000, 5\n",
            "5.90, 5.9000000, 6\n",
            "\n",
            "Exe 4\n",
            "Mensagem:  Alô mundo!\n",
            "\n",
            "Exe 5\n",
            "Digite um número: 1\n",
            "O número informado foi  1.0\n",
            "\n",
            "Exe 6\n",
            "Digite o primeiro número: 1\n",
            "Digite o segundo número: 1\n",
            "A soma dos números é  2.00\n",
            "\n",
            "Exe 7\n",
            "Digite a primeira nota: 1\n",
            "Digite a segunda nota: 1\n",
            "Digite a terceira nota: 1\n",
            "Digite a quarta nota: 1\n",
            "A menor nota é  1.0\n",
            "A maior nota é  1.0\n",
            "A média é  1.0\n",
            "\n",
            "Exponencial\n",
            "8\n",
            "\n",
            "modulo\n",
            "1\n"
          ]
        }
      ],
      "source": [
        "# -*- coding: uft-8 -*-\n",
        "# colocando o código acima, aceita normalmente as acentuações\n",
        "# inserindo comentários de uma linha\n",
        "\n",
        "\"\"\"\"\n",
        "comentários de \n",
        "várias \n",
        "linhas\n",
        "\"\"\"\n",
        "\n",
        "print('')\n",
        "print('Exe 1')\n",
        "print('Alô mundo!')\n",
        "print('Regina você é sensacional!')\n",
        "\n",
        "print('')\n",
        "print('Exe 2')\n",
        "nome = 'Regina'\n",
        "print('Boa tarde, {}!'.format(nome))\n",
        "\n",
        "print('')\n",
        "print('Exe 3')\n",
        "x = 4.7\n",
        "y = 5.9\n",
        "print('{0:.2f}, {0:.7f}, {0:.0f}'.format(x))\n",
        "print('{0:.2f}, {0:.7f}, {0:.0f}'.format(y))\n",
        "\n",
        "print('')\n",
        "print('Exe 4')\n",
        "def ImprimirMensagem():\n",
        "    r: str = 'Alô mundo!'\n",
        "    return r\n",
        "\n",
        "print('Mensagem: ', ImprimirMensagem())\n",
        "\n",
        "\n",
        "print('')\n",
        "print('Exe 5')\n",
        "\n",
        "def SolicitarNum():\n",
        "    s = float(input('Digite um número: '))\n",
        "    return s\n",
        "\n",
        "t = SolicitarNum()\n",
        "print('O número informado foi ', t)\n",
        "\n",
        "\n",
        "print('')\n",
        "print('Exe 6')\n",
        "\n",
        "def SomarNumero():\n",
        "    s = float(input('Digite o primeiro número: '))\n",
        "    u = float(input('Digite o segundo número: '))\n",
        "    soma = s + u\n",
        "    return soma\n",
        "\n",
        "t = SomarNumero()\n",
        "print('A soma dos números é ',  '{0:.2f}'.format(t))\n",
        "\n",
        "print('')\n",
        "print('Exe 7')\n",
        "\n",
        "def ReceberNotas():\n",
        "    primeira = float(input('Digite a primeira nota: '))\n",
        "    segunda = float(input('Digite a segunda nota: '))\n",
        "    terceira = float(input('Digite a terceira nota: '))\n",
        "    quarta = float(input('Digite a quarta nota: '))\n",
        "    return primeira, segunda, terceira, quarta\n",
        "\n",
        "def MenorNota(x):\n",
        "    menor = min(x)\n",
        "    return menor\n",
        "\n",
        "def MaiorNota(x):\n",
        "    maior = max(x)\n",
        "    return maior\n",
        "\n",
        "def MediaNota(x):\n",
        "    media = sum(x) / len(x)\n",
        "    return media\n",
        "\n",
        "t = ReceberNotas()\n",
        "print('A menor nota é ', MenorNota(t))\n",
        "print('A maior nota é ', MaiorNota(t))\n",
        "print('A média é ', MediaNota(t))\n"
      ]
    },
    {
      "cell_type": "code",
      "source": [
        "\n",
        "print('')\n",
        "print('Exponencial')\n",
        "print(2 ** 3)\n",
        "\n"
      ],
      "metadata": {
        "id": "szM78ew1XmEJ"
      },
      "execution_count": null,
      "outputs": []
    },
    {
      "cell_type": "code",
      "source": [
        "print('')\n",
        "print('modulo')\n",
        "print(10 % 3)"
      ],
      "metadata": {
        "id": "XlEqQ_RdXmqm"
      },
      "execution_count": null,
      "outputs": []
    },
    {
      "cell_type": "code",
      "source": [
        "x = 1\n",
        "y = 2\n",
        "\n",
        "if x == y:\n",
        "\tprint(\"numeros iguais\")\n",
        "elif x < y:\n",
        "\tprint(\"x menor que y\")\n",
        "elif y > x:\n",
        "\tprint(\"y maior que x\")\n",
        "else:\n",
        "\tprint(\"numeros diferentes\")\n",
        " "
      ],
      "metadata": {
        "colab": {
          "base_uri": "https://localhost:8080/"
        },
        "id": "Q45XBBfFX_Gn",
        "outputId": "06d9452e-1408-4434-b007-ef5068354626"
      },
      "execution_count": null,
      "outputs": [
        {
          "output_type": "stream",
          "name": "stdout",
          "text": [
            "x menor que y\n"
          ]
        }
      ]
    },
    {
      "cell_type": "code",
      "source": [
        "x = 1\n",
        "\n",
        "while x < 10:\n",
        "  print(x)\n",
        "  x = x + 1\n"
      ],
      "metadata": {
        "colab": {
          "base_uri": "https://localhost:8080/"
        },
        "id": "t3tRPD9dkOeM",
        "outputId": "34ddd5e3-ac4a-4bfa-c4ac-1b0a76350d9b"
      },
      "execution_count": null,
      "outputs": [
        {
          "output_type": "stream",
          "name": "stdout",
          "text": [
            "1\n",
            "2\n",
            "3\n",
            "4\n",
            "5\n",
            "6\n",
            "7\n",
            "8\n",
            "9\n"
          ]
        }
      ]
    },
    {
      "cell_type": "code",
      "source": [
        "lista = [1,2, \"regina\", True, 1,99]\n",
        "\n",
        "for i in lista:\n",
        "  print(i)"
      ],
      "metadata": {
        "colab": {
          "base_uri": "https://localhost:8080/"
        },
        "id": "-zlZl_ANNbnh",
        "outputId": "47610125-d65f-439f-d18a-7a6c2a64cfb3"
      },
      "execution_count": 5,
      "outputs": [
        {
          "output_type": "stream",
          "name": "stdout",
          "text": [
            "1\n",
            "2\n",
            "regina\n",
            "True\n",
            "1\n",
            "99\n"
          ]
        }
      ]
    },
    {
      "cell_type": "code",
      "source": [
        "for i in range(10,20,2): # vai imprimir os números de 10 até 20, de 2 em 2\n",
        "  print(i)"
      ],
      "metadata": {
        "colab": {
          "base_uri": "https://localhost:8080/"
        },
        "id": "XwwVYdK8N_Ov",
        "outputId": "43fcdc54-ce02-47c3-b96a-5544821a58b8"
      },
      "execution_count": 7,
      "outputs": [
        {
          "output_type": "stream",
          "name": "stdout",
          "text": [
            "10\n",
            "12\n",
            "14\n",
            "16\n",
            "18\n"
          ]
        }
      ]
    },
    {
      "cell_type": "code",
      "source": [
        "for i in range(10): \n",
        "  print(i)"
      ],
      "metadata": {
        "colab": {
          "base_uri": "https://localhost:8080/"
        },
        "id": "niuOwYMDO0CJ",
        "outputId": "1d4e4bca-457d-4166-808a-7ba5c808f760"
      },
      "execution_count": 8,
      "outputs": [
        {
          "output_type": "stream",
          "name": "stdout",
          "text": [
            "0\n",
            "1\n",
            "2\n",
            "3\n",
            "4\n",
            "5\n",
            "6\n",
            "7\n",
            "8\n",
            "9\n"
          ]
        }
      ]
    },
    {
      "cell_type": "code",
      "source": [
        "for i in range(10,20):\n",
        "  print(i)"
      ],
      "metadata": {
        "colab": {
          "base_uri": "https://localhost:8080/"
        },
        "id": "IVmK69eRO5ev",
        "outputId": "aca09df0-2e97-4227-f772-1299e496b281"
      },
      "execution_count": 9,
      "outputs": [
        {
          "output_type": "stream",
          "name": "stdout",
          "text": [
            "10\n",
            "11\n",
            "12\n",
            "13\n",
            "14\n",
            "15\n",
            "16\n",
            "17\n",
            "18\n",
            "19\n"
          ]
        }
      ]
    },
    {
      "cell_type": "code",
      "source": [
        "a = \"Regina\"\n",
        "b = \"Leme\"\n",
        "concatenar = a + \" \" +  b\n",
        "print(concatenar)\n",
        "\n",
        "tamanho = len(concatenar)\n",
        "print(tamanho)\n",
        "\n",
        "print(a[0]) # imprime posição 0 da variável a\n",
        "\n",
        "print(concatenar[0:6]) # imprime da posição 0 até a posição 6 da variável\n",
        "\n",
        "print(concatenar[0:]) # imprime todas as posições da variável\n",
        "\n",
        "print(concatenar[2:6]) # imprime da posição 2 até a posição 6 da variável\n"
      ],
      "metadata": {
        "colab": {
          "base_uri": "https://localhost:8080/"
        },
        "id": "yg4gPSx5UNLe",
        "outputId": "2770b284-01c9-4a8a-eb26-4f68d8014ac6"
      },
      "execution_count": 17,
      "outputs": [
        {
          "output_type": "stream",
          "name": "stdout",
          "text": [
            "Regina Leme\n",
            "11\n",
            "R\n",
            "Regina\n",
            "Regina Leme\n",
            "gina\n"
          ]
        }
      ]
    },
    {
      "cell_type": "code",
      "source": [
        "a = \"Regina\"\n",
        "b = \"Leme\"\n",
        "concatenar = a + \" \" +  b + \"\\n\"\n",
        "\n",
        "print(concatenar.lower()) # deixa em minúsculo\n",
        "\n",
        "print(concatenar.upper()) # deixa em maiúsculo\n",
        "\n",
        "print(concatenar.strip()) # remove espaços e caracteres especiais"
      ],
      "metadata": {
        "colab": {
          "base_uri": "https://localhost:8080/"
        },
        "id": "fHWJPxn2Xk8d",
        "outputId": "29a50ca3-b7ef-478b-c194-41940d006687"
      },
      "execution_count": 21,
      "outputs": [
        {
          "output_type": "stream",
          "name": "stdout",
          "text": [
            "regina leme\n",
            "\n",
            "REGINA LEME\n",
            "\n",
            "Regina Leme\n"
          ]
        }
      ]
    },
    {
      "cell_type": "code",
      "source": [
        "minha_string = \"o rei de roma\"\n",
        "minha_lista = minha_string.split() # separa por espaço\n",
        "print(minha_lista)"
      ],
      "metadata": {
        "colab": {
          "base_uri": "https://localhost:8080/"
        },
        "id": "vroE39I5ZKxM",
        "outputId": "72a2e45c-12fc-47e3-96c2-ef1c00afbe72"
      },
      "execution_count": 26,
      "outputs": [
        {
          "output_type": "stream",
          "name": "stdout",
          "text": [
            "['o', 'rei', 'de', 'roma']\n"
          ]
        }
      ]
    },
    {
      "cell_type": "code",
      "source": [
        "minha_string = \"o rei de roma\"\n",
        "minha_lista = minha_string.split(\"r\") # separa as palavras e tira a letra \"r\" delas (é case sensitive)\n",
        "print(minha_lista)"
      ],
      "metadata": {
        "colab": {
          "base_uri": "https://localhost:8080/"
        },
        "id": "9sM0m82pZ1RD",
        "outputId": "287d3bd2-9137-4498-86aa-97f8112589ef"
      },
      "execution_count": 29,
      "outputs": [
        {
          "output_type": "stream",
          "name": "stdout",
          "text": [
            "['o ', 'ei de ', 'oma']\n"
          ]
        }
      ]
    }
  ]
}