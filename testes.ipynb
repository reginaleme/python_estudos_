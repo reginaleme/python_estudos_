{
  "nbformat": 4,
  "nbformat_minor": 0,
  "metadata": {
    "colab": {
      "name": "testes.ipynb",
      "provenance": [],
      "collapsed_sections": [],
      "authorship_tag": "ABX9TyO5EVne46vLYLBfUHBv8m3k",
      "include_colab_link": true
    },
    "kernelspec": {
      "name": "python3",
      "display_name": "Python 3"
    },
    "language_info": {
      "name": "python"
    }
  },
  "cells": [
    {
      "cell_type": "markdown",
      "metadata": {
        "id": "view-in-github",
        "colab_type": "text"
      },
      "source": [
        "<a href=\"https://colab.research.google.com/github/reginaleme/python_estudos_/blob/develop/testes.ipynb\" target=\"_parent\"><img src=\"https://colab.research.google.com/assets/colab-badge.svg\" alt=\"Open In Colab\"/></a>"
      ]
    },
    {
      "cell_type": "code",
      "execution_count": 4,
      "metadata": {
        "colab": {
          "base_uri": "https://localhost:8080/"
        },
        "id": "N_C3AXXyuXCI",
        "outputId": "440d4186-9133-4096-d6a6-f4112ba86269"
      },
      "outputs": [
        {
          "output_type": "stream",
          "name": "stdout",
          "text": [
            "\n",
            "Exe 1\n",
            "Alô mundo!\n",
            "Regina você é sensacional!\n",
            "\n",
            "Exe 2\n",
            "Boa tarde, Regina!\n",
            "\n",
            "Exe 3\n",
            "4.70, 4.7000000, 5\n",
            "5.90, 5.9000000, 6\n",
            "\n",
            "Exe 4\n",
            "Mensagem:  Alô mundo!\n",
            "\n",
            "Exe 5\n",
            "Digite um número: 1\n",
            "O número informado foi  1.0\n",
            "\n",
            "Exe 6\n",
            "Digite o primeiro número: 1\n",
            "Digite o segundo número: 1\n",
            "A soma dos números é  2.00\n",
            "\n",
            "Exe 7\n",
            "Digite a primeira nota: 1\n",
            "Digite a segunda nota: 1\n",
            "Digite a terceira nota: 1\n",
            "Digite a quarta nota: 1\n",
            "A menor nota é  1.0\n",
            "A maior nota é  1.0\n",
            "A média é  1.0\n",
            "\n",
            "Exponencial\n",
            "8\n",
            "\n",
            "modulo\n",
            "1\n"
          ]
        }
      ],
      "source": [
        "# -*- coding: uft-8 -*-\n",
        "# colocando o código acima, aceita normalmente as acentuações\n",
        "# inserindo comentários de uma linha\n",
        "\n",
        "\"\"\"\"\n",
        "comentários de \n",
        "várias \n",
        "linhas\n",
        "\"\"\"\n",
        "\n",
        "print('')\n",
        "print('Exe 1')\n",
        "print('Alô mundo!')\n",
        "print('Regina você é sensacional!')\n",
        "\n",
        "print('')\n",
        "print('Exe 2')\n",
        "nome = 'Regina'\n",
        "print('Boa tarde, {}!'.format(nome))\n",
        "\n",
        "print('')\n",
        "print('Exe 3')\n",
        "x = 4.7\n",
        "y = 5.9\n",
        "print('{0:.2f}, {0:.7f}, {0:.0f}'.format(x))\n",
        "print('{0:.2f}, {0:.7f}, {0:.0f}'.format(y))\n",
        "\n",
        "print('')\n",
        "print('Exe 4')\n",
        "def ImprimirMensagem():\n",
        "    r: str = 'Alô mundo!'\n",
        "    return r\n",
        "\n",
        "print('Mensagem: ', ImprimirMensagem())\n",
        "\n",
        "\n",
        "print('')\n",
        "print('Exe 5')\n",
        "\n",
        "def SolicitarNum():\n",
        "    s = float(input('Digite um número: '))\n",
        "    return s\n",
        "\n",
        "t = SolicitarNum()\n",
        "print('O número informado foi ', t)\n",
        "\n",
        "\n",
        "print('')\n",
        "print('Exe 6')\n",
        "\n",
        "def SomarNumero():\n",
        "    s = float(input('Digite o primeiro número: '))\n",
        "    u = float(input('Digite o segundo número: '))\n",
        "    soma = s + u\n",
        "    return soma\n",
        "\n",
        "t = SomarNumero()\n",
        "print('A soma dos números é ',  '{0:.2f}'.format(t))\n",
        "\n",
        "print('')\n",
        "print('Exe 7')\n",
        "\n",
        "def ReceberNotas():\n",
        "    primeira = float(input('Digite a primeira nota: '))\n",
        "    segunda = float(input('Digite a segunda nota: '))\n",
        "    terceira = float(input('Digite a terceira nota: '))\n",
        "    quarta = float(input('Digite a quarta nota: '))\n",
        "    return primeira, segunda, terceira, quarta\n",
        "\n",
        "def MenorNota(x):\n",
        "    menor = min(x)\n",
        "    return menor\n",
        "\n",
        "def MaiorNota(x):\n",
        "    maior = max(x)\n",
        "    return maior\n",
        "\n",
        "def MediaNota(x):\n",
        "    media = sum(x) / len(x)\n",
        "    return media\n",
        "\n",
        "t = ReceberNotas()\n",
        "print('A menor nota é ', MenorNota(t))\n",
        "print('A maior nota é ', MaiorNota(t))\n",
        "print('A média é ', MediaNota(t))\n"
      ]
    },
    {
      "cell_type": "code",
      "source": [
        "\n",
        "print('')\n",
        "print('Exponencial')\n",
        "print(2 ** 3)\n",
        "\n"
      ],
      "metadata": {
        "id": "szM78ew1XmEJ"
      },
      "execution_count": null,
      "outputs": []
    },
    {
      "cell_type": "code",
      "source": [
        "print('')\n",
        "print('modulo')\n",
        "print(10 % 3)"
      ],
      "metadata": {
        "id": "XlEqQ_RdXmqm"
      },
      "execution_count": null,
      "outputs": []
    },
    {
      "cell_type": "code",
      "source": [
        "x = 1\n",
        "y = 2\n",
        "\n",
        "if x == y:\n",
        "\tprint(\"numeros iguais\")\n",
        "elif x < y:\n",
        "\tprint(\"x menor que y\")\n",
        "elif y > x:\n",
        "\tprint(\"y maior que x\")\n",
        "else:\n",
        "\tprint(\"numeros diferentes\")\n",
        " "
      ],
      "metadata": {
        "colab": {
          "base_uri": "https://localhost:8080/"
        },
        "id": "Q45XBBfFX_Gn",
        "outputId": "06d9452e-1408-4434-b007-ef5068354626"
      },
      "execution_count": 5,
      "outputs": [
        {
          "output_type": "stream",
          "name": "stdout",
          "text": [
            "x menor que y\n"
          ]
        }
      ]
    }
  ]
}