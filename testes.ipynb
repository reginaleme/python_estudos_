{
  "nbformat": 4,
  "nbformat_minor": 0,
  "metadata": {
    "colab": {
      "name": "Untitled0.ipynb",
      "provenance": [],
      "collapsed_sections": [],
      "authorship_tag": "ABX9TyMpNquWzcO6sLWtxFgGsJF0",
      "include_colab_link": true
    },
    "kernelspec": {
      "name": "python3",
      "display_name": "Python 3"
    },
    "language_info": {
      "name": "python"
    }
  },
  "cells": [
    {
      "cell_type": "markdown",
      "metadata": {
        "id": "view-in-github",
        "colab_type": "text"
      },
      "source": [
        "<a href=\"https://colab.research.google.com/github/reginaleme/python_estudos_/blob/main/testes.ipynb\" target=\"_parent\"><img src=\"https://colab.research.google.com/assets/colab-badge.svg\" alt=\"Open In Colab\"/></a>"
      ]
    },
    {
      "cell_type": "code",
      "execution_count": 4,
      "metadata": {
        "colab": {
          "base_uri": "https://localhost:8080/"
        },
        "id": "N_C3AXXyuXCI",
        "outputId": "e7a3f37a-76b1-4c24-9869-6204b2f6278f"
      },
      "outputs": [
        {
          "output_type": "stream",
          "name": "stdout",
          "text": [
            "hello mundo!\n",
            "hello mundo 2!\n"
          ]
        }
      ],
      "source": [
        "print (\"hello mundo!\")\n",
        "\n",
        "# inserindo comentários de uma linha\n",
        "\n",
        "\"\"\"\"\n",
        "comentários de \n",
        "várias \n",
        "linhas\n",
        "\"\"\"\n",
        "\n",
        "print (\"hello mundo 2!\")"
      ]
    }
  ]
}